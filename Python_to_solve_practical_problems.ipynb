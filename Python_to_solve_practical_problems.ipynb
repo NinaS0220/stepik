{
 "cells": [
  {
   "cell_type": "code",
   "execution_count": 5,
   "metadata": {},
   "outputs": [
    {
     "name": "stdout",
     "output_type": "stream",
     "text": [
      "17\n",
      "3\n"
     ]
    }
   ],
   "source": [
    "from urllib.request import urlopen\n",
    "html = urlopen(\"https://stepik.org/media/attachments/lesson/209717/1.html\").read().decode('utf-8')\n",
    "print(html.count('C++'))\n",
    "print(html.count('Python'))"
   ]
  },
  {
   "cell_type": "code",
   "execution_count": 9,
   "metadata": {},
   "outputs": [
    {
     "name": "stdout",
     "output_type": "stream",
     "text": [
      "['+=', '.py, .pyw, .pyc, .pyo, .pyd<sup id=\"cite_ref-3\" class=\"reference\"><a href=\"#cite_note-3\">&#91;3&#93;</a></sup>', '.pyc', '.pyo', '@', '@', '@декоратор(аргументы)', '__doc__', 'a, *rest, b = range(5)', 'and', 'break', 'child', 'class', 'complex', 'contextlib', 'continue', 'def', 'def foo(a, (b, c))', 'elif', 'else', 'else', 'else', 'else', 'else, except', 'except', 'except', 'except', 'except', 'exec', 'filter', 'finally', 'finally', 'finally', 'finally', 'for', 'for', 'for', 'from __future__ import print_function', 'functools', 'help()', 'if', 'import', 'import keyword; print(keyword.kwlist)', 'import this', 'int', 'int', 'int, str, float, list', 'io', \"is, '.', '='\", 'itertools', 'len()', 'logging', 'long', 'map', 'master', 'next()', 'or', 'or', 'parent', 'pass', 'pdb', 'print', 'printf()', 'profile', 're', 'reduce', 'reduce', 'reload()', 'return', 'return', 'return', 's[N:M]', 'send()', 'slave', 'sort()', 'sys.exc_info()', 'threading', 'throw()', 'timeit', 'try', 'try', 'try', 'try, except, else, finally, raise', 'unittest', 'while', 'with', 'with', 'yield', 'yield', '{el1, el2, el3}', '{k: v for k, v in a_dict}']\n"
     ]
    }
   ],
   "source": [
    "from urllib.request import urlopen\n",
    "import re\n",
    "html = urlopen(\"https://stepik.org/media/attachments/lesson/209719/2.html\").read().decode('utf-8')\n",
    "\n",
    "regex = '<code>(.*?)</code>'\n",
    "l = sorted(re.findall(regex, html))\n",
    "print(l)"
   ]
  },
  {
   "cell_type": "code",
   "execution_count": 12,
   "metadata": {},
   "outputs": [
    {
     "name": "stdout",
     "output_type": "stream",
     "text": [
      "Counter({'else': 4, 'except': 4, 'finally': 4, 'for': 3, 'return': 3, 'try': 3, '@': 2, 'int': 2, 'or': 2, 'reduce': 2, 'with': 2, 'yield': 2, '+=': 1, '.py, .pyw, .pyc, .pyo, .pyd<sup id=\"cite_ref-3\" class=\"reference\"><a href=\"#cite_note-3\">&#91;3&#93;</a></sup>': 1, '.pyc': 1, '.pyo': 1, '@декоратор(аргументы)': 1, '__doc__': 1, 'a, *rest, b = range(5)': 1, 'and': 1, 'break': 1, 'child': 1, 'class': 1, 'complex': 1, 'contextlib': 1, 'continue': 1, 'def': 1, 'def foo(a, (b, c))': 1, 'elif': 1, 'else, except': 1, 'exec': 1, 'filter': 1, 'from __future__ import print_function': 1, 'functools': 1, 'help()': 1, 'if': 1, 'import': 1, 'import keyword; print(keyword.kwlist)': 1, 'import this': 1, 'int, str, float, list': 1, 'io': 1, \"is, '.', '='\": 1, 'itertools': 1, 'len()': 1, 'logging': 1, 'long': 1, 'map': 1, 'master': 1, 'next()': 1, 'parent': 1, 'pass': 1, 'pdb': 1, 'print': 1, 'printf()': 1, 'profile': 1, 're': 1, 'reload()': 1, 's[N:M]': 1, 'send()': 1, 'slave': 1, 'sort()': 1, 'sys.exc_info()': 1, 'threading': 1, 'throw()': 1, 'timeit': 1, 'try, except, else, finally, raise': 1, 'unittest': 1, 'while': 1, '{el1, el2, el3}': 1, '{k: v for k, v in a_dict}': 1})\n"
     ]
    }
   ],
   "source": [
    "import collections\n",
    "c = collections.Counter()\n",
    "for word in l:\n",
    "    c[word] += 1\n",
    "print(c)"
   ]
  },
  {
   "cell_type": "code",
   "execution_count": 15,
   "metadata": {},
   "outputs": [
    {
     "name": "stdout",
     "output_type": "stream",
     "text": [
      "1005425\n"
     ]
    }
   ],
   "source": [
    "from urllib.request import urlopen\n",
    "from bs4 import BeautifulSoup\n",
    "\n",
    "html = urlopen(\"https://stepik.org/media/attachments/lesson/209723/3.html\").read().decode('utf-8')\n",
    "soup = BeautifulSoup(html, 'html.parser')\n",
    "\n",
    "table_data = [i.text for i in soup.find_all('td')]\n",
    "\n",
    "sum = 0\n",
    "for i in range(len(table_data)):\n",
    "    sum += int(table_data[i])\n",
    "print(sum)"
   ]
  },
  {
   "cell_type": "code",
   "execution_count": 20,
   "metadata": {},
   "outputs": [
    {
     "name": "stdout",
     "output_type": "stream",
     "text": [
      "29536\n"
     ]
    }
   ],
   "source": [
    "from urllib.request import urlopen\n",
    "from bs4 import BeautifulSoup\n",
    "\n",
    "html = urlopen(\"https://stepik.org/media/attachments/lesson/209723/4.html\").read().decode('utf-8')\n",
    "soup = BeautifulSoup(html, 'html.parser')\n",
    "table_data = [i.text for i in soup.find_all('td')]\n",
    "sum = 0\n",
    "for i in range(len(table_data)):\n",
    "    sum += int(table_data[i])\n",
    "print(sum)"
   ]
  },
  {
   "cell_type": "code",
   "execution_count": 22,
   "metadata": {},
   "outputs": [
    {
     "name": "stdout",
     "output_type": "stream",
     "text": [
      "28734\n"
     ]
    }
   ],
   "source": [
    "from urllib.request import urlopen\n",
    "from bs4 import BeautifulSoup\n",
    "\n",
    "html = urlopen(\"https://stepik.org/media/attachments/lesson/209723/5.html\").read().decode('utf-8')\n",
    "soup = BeautifulSoup(html, 'html.parser')\n",
    "table_data = [i.text for i in soup.find_all('td')]\n",
    "sum = 0\n",
    "for i in range(len(table_data)):\n",
    "    sum += int(table_data[i])\n",
    "print(sum)"
   ]
  },
  {
   "cell_type": "code",
   "execution_count": 1,
   "metadata": {},
   "outputs": [
    {
     "name": "stdout",
     "output_type": "stream",
     "text": [
      "39650.2\n"
     ]
    }
   ],
   "source": [
    "import xlrd\n",
    "\n",
    "wb = xlrd.open_workbook('tab.xlsx')\n",
    "sheet_names = wb.sheet_names()\n",
    "sh = wb.sheet_by_name(sheet_names[0])\n",
    "nmin = sh.row_values(6)[2]\n",
    "for rownum in range(7, 27):\n",
    "    temp = sh.row_values(rownum)\n",
    "    nmin = min(nmin, temp[2])\n",
    "print(nmin)"
   ]
  },
  {
   "cell_type": "code",
   "execution_count": 1,
   "metadata": {},
   "outputs": [
    {
     "name": "stdout",
     "output_type": "stream",
     "text": [
      "39650.2\n"
     ]
    }
   ],
   "source": [
    "import xlrd\n",
    "import wget\n",
    "\n",
    "url = 'https://stepik.org/media/attachments/lesson/245266/tab.xlsx'\n",
    "wget.download(url)\n",
    "\n",
    "wb = xlrd.open_workbook('tab.xlsx')\n",
    "sheet_names = wb.sheet_names()\n",
    "sh = wb.sheet_by_name(sheet_names[0])\n",
    "nmin = sh.row_values(6)[2]\n",
    "for rownum in range(7, 27):\n",
    "    temp = sh.row_values(rownum)\n",
    "    nmin = min(nmin, temp[2])\n",
    "print(nmin)"
   ]
  },
  {
   "cell_type": "code",
   "execution_count": 2,
   "metadata": {},
   "outputs": [
    {
     "name": "stdout",
     "output_type": "stream",
     "text": [
      "39650.2\n"
     ]
    }
   ],
   "source": [
    "import requests\n",
    "import xlrd\n",
    "\n",
    "example_url = 'https://stepik.org/media/attachments/lesson/245266/tab.xlsx'\n",
    "r = requests.get(example_url)\n",
    "\n",
    "wb = xlrd.open_workbook(file_contents=r.content)\n",
    "sheet_names = wb.sheet_names()\n",
    "sh = wb.sheet_by_name(sheet_names[0])\n",
    "nmin = sh.row_values(6)[2]\n",
    "for rownum in range(7, 27):\n",
    "    temp = sh.row_values(rownum)\n",
    "    nmin = min(nmin, temp[2])\n",
    "print(nmin)"
   ]
  },
  {
   "cell_type": "code",
   "execution_count": null,
   "metadata": {},
   "outputs": [],
   "source": [
    "import xlrd\n",
    "import wget\n",
    "\n",
    "url = 'https://stepik.org/media/attachments/lesson/245267/salaries.xlsx'\n",
    "wget.download(url)"
   ]
  },
  {
   "cell_type": "code",
   "execution_count": 72,
   "metadata": {},
   "outputs": [
    {
     "name": "stdout",
     "output_type": "stream",
     "text": [
      "['Москва', 765.0, 9876.0, 546585.0, 6.0, 65876.0, 765.0, 213.0]\n",
      "['Улан-Батор', 87.0, 87698.0, 7698.0, 965765.0, 769.0, 659.0, 21523.0]\n",
      "['Посёлок гидроузла имени Куйбышева', 987595.0, 87.0, 5.0, 7676.0, 8765.0, 9.0, 4356.0]\n",
      "['Крёкшино', 9876.0, 8769.0, 9859.0, 897698.0, 7.0, 69.0, 342.0]\n",
      "['Станица Юго-Северная', 8769.0, 987687.0, 23.0, 1212.0, 9876.0, 23871.0, 3224.0]\n",
      "['Куала-Лумпур', 189710.0, 787.0, 765679.0, 9769.0, 57686.0, 769829.0, 53632.0]\n",
      "['Хабнарфьордюр ', 65.0, 76796.0, 807.0, 765685.0, 97659.0, 56913.0, 32.0]\n",
      "['Ытык-Кюёль', 769.0, 786578.0, 1368.0, 59625.0, 6758.0, 76587.0, 3453.0]\n"
     ]
    },
    {
     "data": {
      "text/plain": [
       "'vals = [sh.row_values(rownum) for rownum in range(sh.nrows)]\\nfor i in vals[1:]:\\n    print(vals.median())'"
      ]
     },
     "execution_count": 72,
     "metadata": {},
     "output_type": "execute_result"
    }
   ],
   "source": [
    "import statistics as st\n",
    "\n",
    "wb = xlrd.open_workbook('salaries.xlsx')\n",
    "sheet_names = wb.sheet_names()\n",
    "sh = wb.sheet_by_name(sheet_names[0])\n",
    "\n",
    "for i in range(1, sh.nrows):\n",
    "    print(sh.row_values(i))        "
   ]
  },
  {
   "cell_type": "code",
   "execution_count": 80,
   "metadata": {},
   "outputs": [
    {
     "name": "stdout",
     "output_type": "stream",
     "text": [
      "Программист                          149704.500\n",
      "Менеджер по клинингу                 244784.750\n",
      "Дизайнер онлайн-курсов               166503.000\n",
      "Собачий парикмахер                   338429.500\n",
      "Учитель для нейросетей                30924.500\n",
      "Сотрудник конной милиции             116087.750\n",
      "Актёр на роль человека-бутерброда     10846.875\n",
      "dtype: float64\n"
     ]
    }
   ],
   "source": [
    "# название профессии с самой высокой средней зарплатой по всем регионам\n",
    "import pandas as pd\n",
    "\n",
    "df = pd.read_excel(\"salaries.xlsx\", index_col=0)\n",
    "print(df.mean())\n"
   ]
  },
  {
   "cell_type": "code",
   "execution_count": 81,
   "metadata": {},
   "outputs": [
    {
     "data": {
      "text/plain": [
       "Москва                                 765.0\n",
       "Улан-Батор                            7698.0\n",
       "Посёлок гидроузла имени Куйбышева     4356.0\n",
       "Крёкшино                              8769.0\n",
       "Станица Юго-Северная                  8769.0\n",
       "Куала-Лумпур                         57686.0\n",
       "Хабнарфьордюр                        56913.0\n",
       "Ытык-Кюёль                            6758.0\n",
       "dtype: float64"
      ]
     },
     "execution_count": 81,
     "metadata": {},
     "output_type": "execute_result"
    }
   ],
   "source": [
    "# название региона с самой высокой медианной зарплатой\n",
    "df.median(axis=1)"
   ]
  },
  {
   "cell_type": "code",
   "execution_count": null,
   "metadata": {},
   "outputs": [],
   "source": []
  }
 ],
 "metadata": {
  "kernelspec": {
   "display_name": ".venv01",
   "language": "python",
   "name": ".venv01"
  },
  "language_info": {
   "codemirror_mode": {
    "name": "ipython",
    "version": 3
   },
   "file_extension": ".py",
   "mimetype": "text/x-python",
   "name": "python",
   "nbconvert_exporter": "python",
   "pygments_lexer": "ipython3",
   "version": "3.6.8"
  }
 },
 "nbformat": 4,
 "nbformat_minor": 2
}
