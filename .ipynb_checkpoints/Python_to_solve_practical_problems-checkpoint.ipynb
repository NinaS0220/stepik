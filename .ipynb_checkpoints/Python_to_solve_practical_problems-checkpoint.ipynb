{
 "cells": [
  {
   "cell_type": "code",
   "execution_count": 5,
   "metadata": {},
   "outputs": [
    {
     "name": "stdout",
     "output_type": "stream",
     "text": [
      "17\n",
      "3\n"
     ]
    }
   ],
   "source": [
    "from urllib.request import urlopen\n",
    "html = urlopen(\"https://stepik.org/media/attachments/lesson/209717/1.html\").read().decode('utf-8')\n",
    "print(html.count('C++'))\n",
    "print(html.count('Python'))"
   ]
  },
  {
   "cell_type": "code",
   "execution_count": 9,
   "metadata": {},
   "outputs": [
    {
     "name": "stdout",
     "output_type": "stream",
     "text": [
      "['+=', '.py, .pyw, .pyc, .pyo, .pyd<sup id=\"cite_ref-3\" class=\"reference\"><a href=\"#cite_note-3\">&#91;3&#93;</a></sup>', '.pyc', '.pyo', '@', '@', '@декоратор(аргументы)', '__doc__', 'a, *rest, b = range(5)', 'and', 'break', 'child', 'class', 'complex', 'contextlib', 'continue', 'def', 'def foo(a, (b, c))', 'elif', 'else', 'else', 'else', 'else', 'else, except', 'except', 'except', 'except', 'except', 'exec', 'filter', 'finally', 'finally', 'finally', 'finally', 'for', 'for', 'for', 'from __future__ import print_function', 'functools', 'help()', 'if', 'import', 'import keyword; print(keyword.kwlist)', 'import this', 'int', 'int', 'int, str, float, list', 'io', \"is, '.', '='\", 'itertools', 'len()', 'logging', 'long', 'map', 'master', 'next()', 'or', 'or', 'parent', 'pass', 'pdb', 'print', 'printf()', 'profile', 're', 'reduce', 'reduce', 'reload()', 'return', 'return', 'return', 's[N:M]', 'send()', 'slave', 'sort()', 'sys.exc_info()', 'threading', 'throw()', 'timeit', 'try', 'try', 'try', 'try, except, else, finally, raise', 'unittest', 'while', 'with', 'with', 'yield', 'yield', '{el1, el2, el3}', '{k: v for k, v in a_dict}']\n"
     ]
    }
   ],
   "source": [
    "from urllib.request import urlopen\n",
    "import re\n",
    "html = urlopen(\"https://stepik.org/media/attachments/lesson/209719/2.html\").read().decode('utf-8')\n",
    "\n",
    "regex = '<code>(.*?)</code>'\n",
    "l = sorted(re.findall(regex, html))\n",
    "print(l)"
   ]
  },
  {
   "cell_type": "code",
   "execution_count": 12,
   "metadata": {},
   "outputs": [
    {
     "name": "stdout",
     "output_type": "stream",
     "text": [
      "Counter({'else': 4, 'except': 4, 'finally': 4, 'for': 3, 'return': 3, 'try': 3, '@': 2, 'int': 2, 'or': 2, 'reduce': 2, 'with': 2, 'yield': 2, '+=': 1, '.py, .pyw, .pyc, .pyo, .pyd<sup id=\"cite_ref-3\" class=\"reference\"><a href=\"#cite_note-3\">&#91;3&#93;</a></sup>': 1, '.pyc': 1, '.pyo': 1, '@декоратор(аргументы)': 1, '__doc__': 1, 'a, *rest, b = range(5)': 1, 'and': 1, 'break': 1, 'child': 1, 'class': 1, 'complex': 1, 'contextlib': 1, 'continue': 1, 'def': 1, 'def foo(a, (b, c))': 1, 'elif': 1, 'else, except': 1, 'exec': 1, 'filter': 1, 'from __future__ import print_function': 1, 'functools': 1, 'help()': 1, 'if': 1, 'import': 1, 'import keyword; print(keyword.kwlist)': 1, 'import this': 1, 'int, str, float, list': 1, 'io': 1, \"is, '.', '='\": 1, 'itertools': 1, 'len()': 1, 'logging': 1, 'long': 1, 'map': 1, 'master': 1, 'next()': 1, 'parent': 1, 'pass': 1, 'pdb': 1, 'print': 1, 'printf()': 1, 'profile': 1, 're': 1, 'reload()': 1, 's[N:M]': 1, 'send()': 1, 'slave': 1, 'sort()': 1, 'sys.exc_info()': 1, 'threading': 1, 'throw()': 1, 'timeit': 1, 'try, except, else, finally, raise': 1, 'unittest': 1, 'while': 1, '{el1, el2, el3}': 1, '{k: v for k, v in a_dict}': 1})\n"
     ]
    }
   ],
   "source": [
    "import collections\n",
    "c = collections.Counter()\n",
    "for word in l:\n",
    "    c[word] += 1\n",
    "print(c)"
   ]
  },
  {
   "cell_type": "code",
   "execution_count": 15,
   "metadata": {},
   "outputs": [
    {
     "name": "stdout",
     "output_type": "stream",
     "text": [
      "1005425\n"
     ]
    }
   ],
   "source": [
    "from urllib.request import urlopen\n",
    "from bs4 import BeautifulSoup\n",
    "\n",
    "html = urlopen(\"https://stepik.org/media/attachments/lesson/209723/3.html\").read().decode('utf-8')\n",
    "soup = BeautifulSoup(html, 'html.parser')\n",
    "\n",
    "table_data = [i.text for i in soup.find_all('td')]\n",
    "\n",
    "sum = 0\n",
    "for i in range(len(table_data)):\n",
    "    sum += int(table_data[i])\n",
    "print(sum)"
   ]
  },
  {
   "cell_type": "code",
   "execution_count": 20,
   "metadata": {},
   "outputs": [
    {
     "name": "stdout",
     "output_type": "stream",
     "text": [
      "29536\n"
     ]
    }
   ],
   "source": [
    "from urllib.request import urlopen\n",
    "from bs4 import BeautifulSoup\n",
    "\n",
    "html = urlopen(\"https://stepik.org/media/attachments/lesson/209723/4.html\").read().decode('utf-8')\n",
    "soup = BeautifulSoup(html, 'html.parser')\n",
    "table_data = [i.text for i in soup.find_all('td')]\n",
    "sum = 0\n",
    "for i in range(len(table_data)):\n",
    "    sum += int(table_data[i])\n",
    "print(sum)"
   ]
  },
  {
   "cell_type": "code",
   "execution_count": 22,
   "metadata": {},
   "outputs": [
    {
     "name": "stdout",
     "output_type": "stream",
     "text": [
      "28734\n"
     ]
    }
   ],
   "source": [
    "from urllib.request import urlopen\n",
    "from bs4 import BeautifulSoup\n",
    "\n",
    "html = urlopen(\"https://stepik.org/media/attachments/lesson/209723/5.html\").read().decode('utf-8')\n",
    "soup = BeautifulSoup(html, 'html.parser')\n",
    "table_data = [i.text for i in soup.find_all('td')]\n",
    "sum = 0\n",
    "for i in range(len(table_data)):\n",
    "    sum += int(table_data[i])\n",
    "print(sum)"
   ]
  },
  {
   "cell_type": "code",
   "execution_count": null,
   "metadata": {},
   "outputs": [],
   "source": []
  }
 ],
 "metadata": {
  "kernelspec": {
   "display_name": ".venv01",
   "language": "python",
   "name": ".venv01"
  },
  "language_info": {
   "codemirror_mode": {
    "name": "ipython",
    "version": 3
   },
   "file_extension": ".py",
   "mimetype": "text/x-python",
   "name": "python",
   "nbconvert_exporter": "python",
   "pygments_lexer": "ipython3",
   "version": "3.6.8"
  }
 },
 "nbformat": 4,
 "nbformat_minor": 2
}
