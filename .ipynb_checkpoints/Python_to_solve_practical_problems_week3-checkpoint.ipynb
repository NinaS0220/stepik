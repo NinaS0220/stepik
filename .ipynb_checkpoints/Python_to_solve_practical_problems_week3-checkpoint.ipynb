{
 "cells": [
  {
   "cell_type": "code",
   "execution_count": 3,
   "metadata": {},
   "outputs": [
    {
     "name": "stdout",
     "output_type": "stream",
     "text": [
      "         importance\n",
      "cp         0.249912\n",
      "ca         0.138268\n",
      "exang      0.124721\n",
      "oldpeak    0.120152\n",
      "thal       0.114371\n"
     ]
    },
    {
     "name": "stderr",
     "output_type": "stream",
     "text": [
      "/home/nina/.local/lib/python3.6/site-packages/sklearn/model_selection/_search.py:814: DeprecationWarning: The default of the `iid` parameter will change from True to False in version 0.22 and will be removed in 0.24. This will change numeric results when test-set sizes are unequal.\n",
      "  DeprecationWarning)\n"
     ]
    }
   ],
   "source": [
    "import pandas as pd\n",
    "from sklearn.model_selection import GridSearchCV\n",
    "from sklearn.ensemble import RandomForestClassifier\n",
    "\n",
    "heart = pd.read_csv('heart.csv')\n",
    "x = heart.drop('target', axis=1)\n",
    "y = heart.target\n",
    "\n",
    "clf = RandomForestClassifier()\n",
    "params = {\n",
    "    \"n_estimators\": [10, 20, 30],\n",
    "    'max_depth' : range(3, 8),\n",
    "    'min_samples_split': [2, 6, 10],\n",
    "    'min_samples_leaf' : [1, 5, 10],\n",
    "}\n",
    "search = GridSearchCV(clf, params, cv=5)\n",
    "search.fit(x, y)\n",
    "rf = search.best_estimator_\n",
    "\n",
    "imp = pd.DataFrame(rf.feature_importances_, index=x.columns, columns=['importance'])\n",
    "print(imp.sort_values('importance', ascending=False).head(5))\n",
    "\n",
    "#          importance\n",
    "# cp         0.243934\n",
    "# thal       0.183917\n",
    "# ca         0.156837\n",
    "# oldpeak    0.118737\n",
    "# thalach    0.113048"
   ]
  },
  {
   "cell_type": "code",
   "execution_count": 6,
   "metadata": {},
   "outputs": [
    {
     "name": "stdout",
     "output_type": "stream",
     "text": [
      "D    500000.495\n",
      "dtype: float64\n",
      "CPU times: user 562 ms, sys: 734 ms, total: 1.3 s\n",
      "Wall time: 1.29 s\n",
      "D    500000.495\n",
      "dtype: float64\n",
      "CPU times: user 453 ms, sys: 734 ms, total: 1.19 s\n",
      "Wall time: 1.18 s\n",
      "D    500000.495\n",
      "dtype: float64\n",
      "CPU times: user 406 ms, sys: 750 ms, total: 1.16 s\n",
      "Wall time: 1.17 s\n",
      "D    500000.495\n",
      "Name: mean, dtype: float64\n",
      "CPU times: user 3.72 s, sys: 5.77 s, total: 9.48 s\n",
      "Wall time: 9.5 s\n"
     ]
    }
   ],
   "source": [
    "import numpy as np\n",
    "import pandas as pd\n",
    "df = pd.DataFrame(np.arange(1, 1000000, 0.01), columns = ['D'])\n",
    "%time  print(df.mean(axis=0))\n",
    "%time  print(df.apply('mean'))\n",
    "%time  print(df.apply(np.mean))\n",
    "%time  print(df.describe().loc['mean'])"
   ]
  },
  {
   "cell_type": "code",
   "execution_count": 16,
   "metadata": {},
   "outputs": [
    {
     "name": "stdout",
     "output_type": "stream",
     "text": [
      "Fitting 3 folds for each of 840 candidates, totalling 2520 fits\n"
     ]
    },
    {
     "name": "stderr",
     "output_type": "stream",
     "text": [
      "[Parallel(n_jobs=-1)]: Using backend LokyBackend with 8 concurrent workers.\n",
      "[Parallel(n_jobs=-1)]: Done  34 tasks      | elapsed:    2.7s\n",
      "[Parallel(n_jobs=-1)]: Done 512 tasks      | elapsed:    9.4s\n",
      "[Parallel(n_jobs=-1)]: Done 1512 tasks      | elapsed:   31.3s\n",
      "[Parallel(n_jobs=-1)]: Done 2520 out of 2520 | elapsed:   51.0s finished\n"
     ]
    },
    {
     "data": {
      "text/plain": [
       "\"unique, counts = np.unique(data_test['class'], return_counts=True)\\n\\nprint(data_test.head(5))\\nprint(dict(zip(unique, counts)))\\nprint(y_test)\\n\\nimp =pd.DataFrame(best_estimator.feature_importances_, index=x_test.columns, columns=['importance'])\\nimp.sort_values('importance').plot(kind='barh', figsize=(12, 8))\\nplt.show()\""
      ]
     },
     "execution_count": 16,
     "metadata": {},
     "output_type": "execute_result"
    }
   ],
   "source": [
    "import pandas as pd \n",
    "import seaborn as sn\n",
    "import matplotlib as plt\n",
    "from sklearn.ensemble import RandomForestClassifier\n",
    "from sklearn.model_selection import GridSearchCV\n",
    "data = pd.read_csv('https://stepik.org/media/attachments/course/4852/invasion.csv')\n",
    "data_test = pd.read_csv('https://stepik.org/media/attachments/course/4852/operative_information.csv')\n",
    "x = data[['g_reflection', 'i_reflection', 'speed', 'brightness',\n",
    "       'time_of_observance', 'volume']]\n",
    "y = data['class']\n",
    "x_test = data_test[['g_reflection', 'i_reflection', 'speed', 'brightness',\n",
    "       'time_of_observance', 'volume']]\n",
    "\n",
    "clf = RandomForestClassifier()\n",
    "parameters = {'n_estimators': range(10, 51, 10), 'max_depth': range(1, 13, 2), 'min_samples_leaf': range(1, 8), 'min_samples_split': range(2, 9, 2)}\n",
    "grid_search_cv_clf = GridSearchCV(clf, parameters, cv=3, n_jobs=-1, verbose=True)\n",
    "grid_search_cv_clf.fit(x, y)\n",
    "best_estimator = grid_search_cv_clf.best_estimator_\n",
    "data_test['class'] = best_estimator.predict(x_test)\n",
    "y_test = pd.Series(best_estimator.predict(x_test)).value_counts()\n",
    "unique, counts = np.unique(data_test['class'], return_counts=True)\n",
    "\n",
    "print(data_test.head(5))\n",
    "print(dict(zip(unique, counts)))\n",
    "print(y_test)\n",
    "\n",
    "imp =pd.DataFrame(best_estimator.feature_importances_, index=x_test.columns, columns=['importance'])\n",
    "imp.sort_values('importance').plot(kind='barh', figsize=(12, 8))\n",
    "plt.show()"
   ]
  },
  {
   "cell_type": "code",
   "execution_count": 10,
   "metadata": {},
   "outputs": [
    {
     "data": {
      "text/plain": [
       "<matplotlib.axes._subplots.AxesSubplot at 0x7fbbe39a28d0>"
      ]
     },
     "execution_count": 10,
     "metadata": {},
     "output_type": "execute_result"
    },
    {
     "data": {
      "image/png": "[encoded data removed]",
      "text/plain": [
       "<Figure size 432x288 with 2 Axes>"
      ]
     },
     "metadata": {},
     "output_type": "display_data"
    }
   ],
   "source": [
    "import seaborn as sns\n",
    "space = pd.read_csv('space_can_be_a_dangerous_place.csv')\n",
    "\n",
    "sns.heatmap(space.corr())"
   ]
  },
  {
   "cell_type": "code",
   "execution_count": null,
   "metadata": {},
   "outputs": [],
   "source": [
    "import numpy as np\n",
    "import pandas as pd\n",
    "from sklearn.tree import DecisionTreeClassifier\n",
    "from sklearn.model_selection import GridSearchCV\n",
    "\n",
    "# разбиваем датафрейм train на X и y\n",
    "x_train = train.drop([\"y\"], axis=1)\n",
    "y_train = train[\"y\"]\n",
    "\n",
    "# создаем словарь с параметрами, которые хотим проверить\n",
    "params = {\"max_depth\": range(1,11), \"min_samples_split\":range(2,11), \"min_samples_leaf\":range(1,11)}\n",
    "\n",
    "# создаем экзмпляр дерева\n",
    "dt = DecisionTreeClassifier()\n",
    "\n",
    "# создаем экземпляр GridSearchCV\n",
    "search = GridSearchCV(dt, params, cv=5)\n",
    "\n",
    "# обучаем или ищем лучшее дерево\n",
    "search.fit(x_train,y_train)\n",
    "\n",
    "# сохраням лучшее дерево по мнению GridSearchCV\n",
    "best_tree = search.best_estimator_\n",
    "\n",
    "# делаем предсказания по лучшему дереву на датасете test\n",
    "predictions = best_tree.predict(test)\n"
   ]
  },
  {
   "cell_type": "code",
   "execution_count": null,
   "metadata": {},
   "outputs": [],
   "source": [
    "import pandas as pd\n",
    "from sklearn.tree import DecisionTreeClassifier\n",
    "from sklearn.model_selection import GridSearchCV\n",
    "from sklearn.datasets import load_iris\n",
    "\n",
    "\n",
    "iris = load_iris()\n",
    "x = iris.data\n",
    "y = iris.target\n",
    "parameter_grid = {\n",
    "            'max_depth': range(1,10),\n",
    "            'min_samples_split': range(2,10),\n",
    "            'min_samples_leaf':range(1,10)\n",
    "    }\n",
    "df = DecisionTreeClassifier()\n",
    "search=GridSearchCV(df,parameter_grid)\n",
    "search.fit(x, y)\n",
    "best_tree = search.best_estimator_"
   ]
  },
  {
   "cell_type": "code",
   "execution_count": 14,
   "metadata": {},
   "outputs": [],
   "source": [
    "import pandas as pd\n",
    "from sklearn.tree import DecisionTreeClassifier\n",
    "from sklearn.model_selection import RandomizedSearchCV\n",
    "from sklearn.datasets import load_iris\n",
    "\n",
    "\n",
    "iris = load_iris()\n",
    "X = iris.data\n",
    "y = iris.target\n",
    "\n",
    "# Инициализация Дерева\n",
    "dt = DecisionTreeClassifier()\n",
    "\n",
    "# Словарь параметров для Дерева и их диапазоном значений\n",
    "dt_params = {'max_depth': range(1, 10), 'min_samples_split': range(2, 10), 'min_samples_leaf': range(1, 10)}\n",
    "\n",
    "# Обучение Дерева с перебором значений параметров\n",
    "search = RandomizedSearchCV(dt, param_distributions=dt_params, cv=5)\n",
    "search.fit(X, y)\n",
    "\n",
    "# Дерево с лучшим сочетаением параметров\n",
    "best_tree = search.best_estimator_"
   ]
  },
  {
   "cell_type": "code",
   "execution_count": 15,
   "metadata": {},
   "outputs": [
    {
     "data": {
      "text/plain": [
       "DecisionTreeClassifier(class_weight=None, criterion='gini', max_depth=5,\n",
       "                       max_features=None, max_leaf_nodes=None,\n",
       "                       min_impurity_decrease=0.0, min_impurity_split=None,\n",
       "                       min_samples_leaf=1, min_samples_split=9,\n",
       "                       min_weight_fraction_leaf=0.0, presort=False,\n",
       "                       random_state=None, splitter='best')"
      ]
     },
     "execution_count": 15,
     "metadata": {},
     "output_type": "execute_result"
    }
   ],
   "source": [
    "best_tree"
   ]
  },
  {
   "cell_type": "code",
   "execution_count": 18,
   "metadata": {},
   "outputs": [
    {
     "data": {
      "text/plain": [
       "<matplotlib.axes._subplots.AxesSubplot at 0x7fbc23a24c50>"
      ]
     },
     "execution_count": 18,
     "metadata": {},
     "output_type": "execute_result"
    },
    {
     "data": {
      "image/png": "[encoded data removed]",
      "text/plain": [
       "<Figure size 504x288 with 1 Axes>"
      ]
     },
     "metadata": {},
     "output_type": "display_data"
    }
   ],
   "source": [
    "import pandas as pd \n",
    "from sklearn.ensemble import RandomForestClassifier\n",
    "from sklearn.model_selection import GridSearchCV\n",
    "#df = pd.read_csv('training_mush.csv')\n",
    "df = pd.read_csv('https://stepik.org/media/attachments/course/4852/training_mush.csv')\n",
    "X = df.drop(['class'], axis = 1)\n",
    "y = df['class']\n",
    "parameters = {\n",
    "     'n_estimators': list(range(10, 51, 10)), # число деревьев в \"лесу\"\n",
    "     'max_depth': list(range(1, 13, 2)), # максимальная глубина\n",
    "     'min_samples_split': list(range(2, 10, 2)), # минимальное число проб для разделения\n",
    "     'min_samples_leaf': list(range(1, 8)) # минимальное число проб в листе\n",
    " }\n",
    "rfc = RandomForestClassifier(random_state=0)\n",
    "search = GridSearchCV(estimator=rfc, param_grid = parameters, cv=3, n_jobs=-1)\n",
    "best_tree = search.fit(X, y)\n",
    "be = search.best_estimator_\n",
    "imp = pd.DataFrame(be.feature_importances_, index=X.columns, columns=['importance'])\n",
    "imp.sort_values('importance').plot(kind='barh', figsize=(7, 4))"
   ]
  },
  {
   "cell_type": "code",
   "execution_count": 21,
   "metadata": {},
   "outputs": [
    {
     "data": {
      "text/plain": [
       "{'max_depth': 9,\n",
       " 'min_samples_leaf': 1,\n",
       " 'min_samples_split': 2,\n",
       " 'n_estimators': 10}"
      ]
     },
     "execution_count": 21,
     "metadata": {},
     "output_type": "execute_result"
    }
   ],
   "source": [
    "search.best_params_"
   ]
  },
  {
   "cell_type": "code",
   "execution_count": 29,
   "metadata": {},
   "outputs": [
    {
     "data": {
      "text/plain": [
       "DecisionTreeClassifier(class_weight=None, criterion='entropy', max_depth=None,\n",
       "                       max_features=None, max_leaf_nodes=None,\n",
       "                       min_impurity_decrease=0.0, min_impurity_split=None,\n",
       "                       min_samples_leaf=1, min_samples_split=2,\n",
       "                       min_weight_fraction_leaf=0.0, presort=False,\n",
       "                       random_state=None, splitter='best')"
      ]
     },
     "execution_count": 29,
     "metadata": {},
     "output_type": "execute_result"
    }
   ],
   "source": [
    "# Считать данные для обучения Дерева\n",
    "train_data_tree = pd.read_csv('train_data_tree.csv')\n",
    "X_train = train_data_tree.drop('num', axis=1)\n",
    "y_train = train_data_tree['num']\n",
    "\n",
    "# Обучение Дерева\n",
    "rs = np.random.seed(0)\n",
    "clf = DecisionTreeClassifier(criterion='entropy')\n",
    "clf.fit(X_train, y_train)"
   ]
  },
  {
   "cell_type": "code",
   "execution_count": 31,
   "metadata": {},
   "outputs": [],
   "source": [
    "# 0 - индекс корня\n",
    "l_node = clf.tree_.children_right[0] # индекс корня левого поддерева\n",
    "n1 = clf.tree_.n_node_samples[l_node] # сэмплов в левом поддереве\n",
    "e1 = clf.tree_.impurity[l_node] # энтропия в корне левого поддерева"
   ]
  },
  {
   "cell_type": "code",
   "execution_count": 32,
   "metadata": {},
   "outputs": [
    {
     "name": "stdout",
     "output_type": "stream",
     "text": [
      "1 157 0.9027113410339267\n"
     ]
    }
   ],
   "source": [
    "print(l_node, n1, e1)"
   ]
  },
  {
   "cell_type": "code",
   "execution_count": 51,
   "metadata": {},
   "outputs": [],
   "source": [
    "r_node = clf.tree_.children_right[0] # индекс корня правого поддерева\n",
    "n2 = clf.tree_.n_node_samples[r_node] # сэмплов справа \n",
    "e2 = clf.tree_.impurity[r_node] # энтропия справа"
   ]
  },
  {
   "cell_type": "code",
   "execution_count": 52,
   "metadata": {},
   "outputs": [
    {
     "name": "stdout",
     "output_type": "stream",
     "text": [
      "4 81 0.8256265261578954\n"
     ]
    }
   ],
   "source": [
    "print(r_node, n2, e2)"
   ]
  },
  {
   "cell_type": "code",
   "execution_count": 48,
   "metadata": {},
   "outputs": [
    {
     "data": {
      "text/plain": [
       "array([238, 157,  53, 104,  81,  16,  65])"
      ]
     },
     "execution_count": 48,
     "metadata": {},
     "output_type": "execute_result"
    }
   ],
   "source": [
    "clf.tree_.n_node_samples\n",
    "\n",
    "#clf.tree_.impurity"
   ]
  },
  {
   "cell_type": "code",
   "execution_count": 53,
   "metadata": {},
   "outputs": [],
   "source": [
    "N = n1+n2 "
   ]
  },
  {
   "cell_type": "code",
   "execution_count": 54,
   "metadata": {},
   "outputs": [],
   "source": [
    "IG = 0.996 - (n1*e1 + n2*e2)/N "
   ]
  },
  {
   "cell_type": "code",
   "execution_count": 55,
   "metadata": {},
   "outputs": [
    {
     "data": {
      "text/plain": [
       "0.11952340688606711"
      ]
     },
     "execution_count": 55,
     "metadata": {},
     "output_type": "execute_result"
    }
   ],
   "source": [
    "IG"
   ]
  },
  {
   "cell_type": "code",
   "execution_count": 58,
   "metadata": {},
   "outputs": [
    {
     "name": "stdout",
     "output_type": "stream",
     "text": [
      "Шерстист на 0:  0.0\n",
      "Шерстист на 1:  0.9910760598382222\n",
      "Гавкает на 0:  0.0\n",
      "Гавкает на 1:  0.7219280948873623\n",
      "Лазает по деревьям на 0:  0.0\n",
      "Лазает по деревьям на 1:  0.0\n"
     ]
    }
   ],
   "source": [
    "import pandas as pd\n",
    "from scipy.stats import entropy\n",
    "\n",
    "\n",
    "def ent(data):\n",
    "    return entropy(data.Вид.value_counts() / len(data), base=2)\n",
    "\n",
    "\n",
    "df = pd.read_csv('cats.csv', index_col=0)\n",
    "print('Шерстист на 0: ', ent(df[df.Шерстист == 0]))\n",
    "print('Шерстист на 1: ', ent(df[df.Шерстист == 1]))\n",
    "print('Гавкает на 0: ', ent(df[df.Гавкает == 0]))\n",
    "print('Гавкает на 1: ', ent(df[df.Гавкает == 1]))\n",
    "print('Лазает по деревьям на 0: ', ent(df[df['Лазает по деревьям'] == 0]))\n",
    "print('Лазает по деревьям на 1: ', ent(df[df['Лазает по деревьям'] == 1]))"
   ]
  },
  {
   "cell_type": "code",
   "execution_count": 59,
   "metadata": {},
   "outputs": [
    {
     "name": "stdout",
     "output_type": "stream",
     "text": [
      "-0.0 0.9910760598382222\n",
      "-0.0 0.7219280948873623\n",
      "-0.0 -0.0\n"
     ]
    }
   ],
   "source": [
    "import math\n",
    "\n",
    "\n",
    "E_sh_sob = -(1)*math.log2(1)\n",
    "E_sh_kot = -(4/9)*math.log2(4/9) - (5/9)*math.log2(5/9)\n",
    "\n",
    "E_gav_sob = -(1)*math.log2(1)\n",
    "E_gav_kot = -(4/5)*math.log2(4/5) - (1/5)*math.log2(1/5)\n",
    "\n",
    "E_laz_sob = -(1)*math.log2(1)\n",
    "E_laz_kot = -(1)*math.log2(1)\n",
    "\n",
    "print(E_sh_sob, E_sh_kot)\n",
    "print(E_gav_sob, E_gav_kot)\n",
    "print(E_laz_sob, E_laz_kot)"
   ]
  },
  {
   "cell_type": "code",
   "execution_count": 68,
   "metadata": {},
   "outputs": [
    {
     "name": "stdout",
     "output_type": "stream",
     "text": [
      "0.9709505944546686\n"
     ]
    }
   ],
   "source": [
    "E = -(4/10)*math.log2(4/10) - (6/10)*math.log2(6/10)\n",
    "print(E)"
   ]
  },
  {
   "cell_type": "code",
   "execution_count": 70,
   "metadata": {},
   "outputs": [
    {
     "name": "stdout",
     "output_type": "stream",
     "text": [
      "0.07898214060026854 0.6099865470109874 0.9709505944546686\n"
     ]
    }
   ],
   "source": [
    "IG_sh = E - (1/10)*E_sh_sob - (9/10)*E_sh_kot\n",
    "IG_gav = E - (5/10)*E_gav_sob - (5/10)*E_gav_kot\n",
    "IG_laz = E - (6/10)*E_laz_sob - (6/10)*E_laz_kot\n",
    "print(IG_sh, IG_gav, IG_laz)"
   ]
  },
  {
   "cell_type": "code",
   "execution_count": 75,
   "metadata": {},
   "outputs": [],
   "source": [
    "titanic_data = pd.read_csv('./titanic/train.csv')"
   ]
  },
  {
   "cell_type": "code",
   "execution_count": 76,
   "metadata": {},
   "outputs": [],
   "source": [
    "X = titanic_data.drop([\"PassengerId\", \"Survived\", \"Name\", \"Ticket\", \"Cabin\"], axis=1)\n",
    "y = titanic_data.Survived"
   ]
  },
  {
   "cell_type": "code",
   "execution_count": null,
   "metadata": {},
   "outputs": [],
   "source": [
    "from sklearn.model_selection import train_test_split\n",
    "X_train, X_test, y_train, y_test = train_test_split(X, y, test_size=0.33, random_state=42)"
   ]
  },
  {
   "cell_type": "code",
   "execution_count": 71,
   "metadata": {},
   "outputs": [],
   "source": [
    "from sklearn.ensemble import RandomForestClassifier"
   ]
  },
  {
   "cell_type": "code",
   "execution_count": 72,
   "metadata": {},
   "outputs": [],
   "source": [
    "clf_rf = RandomForestClassifier()"
   ]
  },
  {
   "cell_type": "code",
   "execution_count": 73,
   "metadata": {},
   "outputs": [],
   "source": [
    "parameters = {'n_estimators': [10, 20, 30], 'max_depth': [2, 5, 7, 10]}"
   ]
  },
  {
   "cell_type": "code",
   "execution_count": 74,
   "metadata": {},
   "outputs": [],
   "source": [
    "grid_search_cv_clf = GridSearchCV(clf_rf, parameters, cv=5)"
   ]
  },
  {
   "cell_type": "code",
   "execution_count": 77,
   "metadata": {},
   "outputs": [
    {
     "name": "stderr",
     "output_type": "stream",
     "text": [
      "/home/nina/.local/lib/python3.6/site-packages/sklearn/model_selection/_search.py:814: DeprecationWarning: The default of the `iid` parameter will change from True to False in version 0.22 and will be removed in 0.24. This will change numeric results when test-set sizes are unequal.\n",
      "  DeprecationWarning)\n"
     ]
    },
    {
     "data": {
      "text/plain": [
       "GridSearchCV(cv=5, error_score='raise-deprecating',\n",
       "             estimator=RandomForestClassifier(bootstrap=True, class_weight=None,\n",
       "                                              criterion='gini', max_depth=None,\n",
       "                                              max_features='auto',\n",
       "                                              max_leaf_nodes=None,\n",
       "                                              min_impurity_decrease=0.0,\n",
       "                                              min_impurity_split=None,\n",
       "                                              min_samples_leaf=1,\n",
       "                                              min_samples_split=2,\n",
       "                                              min_weight_fraction_leaf=0.0,\n",
       "                                              n_estimators='warn', n_jobs=None,\n",
       "                                              oob_score=False,\n",
       "                                              random_state=None, verbose=0,\n",
       "                                              warm_start=False),\n",
       "             iid='warn', n_jobs=None,\n",
       "             param_grid={'max_depth': [2, 5, 7, 10],\n",
       "                         'n_estimators': [10, 20, 30]},\n",
       "             pre_dispatch='2*n_jobs', refit=True, return_train_score=False,\n",
       "             scoring=None, verbose=0)"
      ]
     },
     "execution_count": 77,
     "metadata": {},
     "output_type": "execute_result"
    }
   ],
   "source": [
    "grid_search_cv_clf.fit(X_train, y_train)"
   ]
  },
  {
   "cell_type": "code",
   "execution_count": 78,
   "metadata": {},
   "outputs": [
    {
     "data": {
      "text/plain": [
       "{'max_depth': 2, 'n_estimators': 10}"
      ]
     },
     "execution_count": 78,
     "metadata": {},
     "output_type": "execute_result"
    }
   ],
   "source": [
    "grid_search_cv_clf.best_params_"
   ]
  },
  {
   "cell_type": "code",
   "execution_count": 79,
   "metadata": {},
   "outputs": [],
   "source": [
    "best_clf = grid_search_cv_clf.best_estimator_"
   ]
  },
  {
   "cell_type": "code",
   "execution_count": 84,
   "metadata": {},
   "outputs": [],
   "source": [
    "feature_importances = best_clf.feature_importances_"
   ]
  },
  {
   "cell_type": "code",
   "execution_count": 85,
   "metadata": {},
   "outputs": [],
   "source": [
    "feature_importances_df = pd.DataFrame({'features': list(X_train),\n",
    "                                      'feature_importances': feature_importances})"
   ]
  },
  {
   "cell_type": "code",
   "execution_count": 86,
   "metadata": {},
   "outputs": [
    {
     "data": {
      "text/html": [
       "<div>\n",
       "<style scoped>\n",
       "    .dataframe tbody tr th:only-of-type {\n",
       "        vertical-align: middle;\n",
       "    }\n",
       "\n",
       "    .dataframe tbody tr th {\n",
       "        vertical-align: top;\n",
       "    }\n",
       "\n",
       "    .dataframe thead th {\n",
       "        text-align: right;\n",
       "    }\n",
       "</style>\n",
       "<table border=\"1\" class=\"dataframe\">\n",
       "  <thead>\n",
       "    <tr style=\"text-align: right;\">\n",
       "      <th></th>\n",
       "      <th>features</th>\n",
       "      <th>feature_importances</th>\n",
       "    </tr>\n",
       "  </thead>\n",
       "  <tbody>\n",
       "    <tr>\n",
       "      <th>1</th>\n",
       "      <td>exang</td>\n",
       "      <td>0.709933</td>\n",
       "    </tr>\n",
       "    <tr>\n",
       "      <th>0</th>\n",
       "      <td>sex</td>\n",
       "      <td>0.290067</td>\n",
       "    </tr>\n",
       "  </tbody>\n",
       "</table>\n",
       "</div>"
      ],
      "text/plain": [
       "  features  feature_importances\n",
       "1    exang             0.709933\n",
       "0      sex             0.290067"
      ]
     },
     "execution_count": 86,
     "metadata": {},
     "output_type": "execute_result"
    }
   ],
   "source": [
    "feature_importances_df.sort_values('feature_importances', ascending=False)"
   ]
  },
  {
   "cell_type": "code",
   "execution_count": null,
   "metadata": {},
   "outputs": [],
   "source": []
  }
 ],
 "metadata": {
  "kernelspec": {
   "display_name": ".venv01",
   "language": "python",
   "name": ".venv01"
  },
  "language_info": {
   "codemirror_mode": {
    "name": "ipython",
    "version": 3
   },
   "file_extension": ".py",
   "mimetype": "text/x-python",
   "name": "python",
   "nbconvert_exporter": "python",
   "pygments_lexer": "ipython3",
   "version": "3.6.8"
  }
 },
 "nbformat": 4,
 "nbformat_minor": 2
}
